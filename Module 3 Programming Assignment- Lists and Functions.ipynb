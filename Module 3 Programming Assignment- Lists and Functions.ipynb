{
 "cells": [
  {
   "cell_type": "code",
   "execution_count": 2,
   "id": "0cffe51b-ed63-45d8-b9dc-b0caa835add1",
   "metadata": {},
   "outputs": [
    {
     "name": "stdout",
     "output_type": "stream",
     "text": [
      "['mozarella', 'cinderalla', 'salmonella']\n"
     ]
    }
   ],
   "source": [
    "#Autumn Brazelton\n",
    "#Module 3 Programming Assignment - Lists and Functions\n",
    "\n",
    "#7.4 - Making a list called things with three strings as elements. \n",
    "things = [\"mozarella\",\"cinderalla\",\"salmonella\"]\n",
    "print(things)"
   ]
  },
  {
   "cell_type": "code",
   "execution_count": 3,
   "id": "49a377bd-a30a-42ad-a6b1-e1e33dac65f8",
   "metadata": {},
   "outputs": [
    {
     "name": "stdout",
     "output_type": "stream",
     "text": [
      "['mozarella', 'Cinderalla', 'salmonella']\n"
     ]
    }
   ],
   "source": [
    "#7.5 - Capitalize the element in things that refers to a person and then printing the list. \n",
    "things[1] = things[1].capitalize()\n",
    "print(things)\n",
    "#Noting that it capitalized the second element. "
   ]
  },
  {
   "cell_type": "code",
   "execution_count": 4,
   "id": "dc932809-e149-425f-8dbe-4521e3f367f4",
   "metadata": {},
   "outputs": [
    {
     "name": "stdout",
     "output_type": "stream",
     "text": [
      "['MOZARELLA', 'Cinderalla', 'salmonella']\n"
     ]
    }
   ],
   "source": [
    "#7.6 - Making the \"cheesy\" element of things all uppercase and printing the list. \n",
    "things[0] = things[0].upper()\n",
    "print(things)\n",
    "#Noting that it capitlized the element MOZARELLA."
   ]
  },
  {
   "cell_type": "code",
   "execution_count": 5,
   "id": "748d875d-54cf-40d8-aefa-64b45bc66e8c",
   "metadata": {},
   "outputs": [
    {
     "name": "stdout",
     "output_type": "stream",
     "text": [
      "['MOZARELLA', 'salmonella']\n"
     ]
    }
   ],
   "source": [
    "#7.7 - Deleting the disease from the element of things. \n",
    "del things[1]\n",
    "print(things)"
   ]
  },
  {
   "cell_type": "code",
   "execution_count": 8,
   "id": "db8a2ac6-6af0-4bbc-88d0-79686e378ab1",
   "metadata": {},
   "outputs": [],
   "source": [
    "#9.1 - Defining a function called good () that returns the following list: Harry, Ron, and Hermione\n",
    "def good():\n",
    "    return ['Harry', 'Ron', 'Hermione']"
   ]
  },
  {
   "cell_type": "code",
   "execution_count": 10,
   "id": "b1734c33-bec5-415f-a8e3-513090ba0593",
   "metadata": {},
   "outputs": [
    {
     "name": "stdout",
     "output_type": "stream",
     "text": [
      "['Harry', 'Ron', 'Hermione']\n"
     ]
    }
   ],
   "source": [
    "print(good())"
   ]
  },
  {
   "cell_type": "code",
   "execution_count": 11,
   "id": "e6cee0cd-0114-4642-83a2-4227fa3ed238",
   "metadata": {},
   "outputs": [
    {
     "name": "stdout",
     "output_type": "stream",
     "text": [
      "5\n"
     ]
    }
   ],
   "source": [
    "#9.2 - Defining a a generator function that returns the off numbers from range(10). \n",
    "def get_odds():\n",
    "    for number in range(10):\n",
    "        if number % 2 !=0:\n",
    "            yield number\n",
    "#Getting the third value retunred by get_odds\n",
    "odds = get_odds()\n",
    "for i, value in enumerate(odds, start=1):\n",
    "    if i ==3:\n",
    "        print(value)\n",
    "        break"
   ]
  },
  {
   "cell_type": "code",
   "execution_count": null,
   "id": "1595cf4e-1f05-48f5-98e5-2d743cd4ee23",
   "metadata": {},
   "outputs": [],
   "source": []
  }
 ],
 "metadata": {
  "kernelspec": {
   "display_name": "Python 3 (ipykernel)",
   "language": "python",
   "name": "python3"
  },
  "language_info": {
   "codemirror_mode": {
    "name": "ipython",
    "version": 3
   },
   "file_extension": ".py",
   "mimetype": "text/x-python",
   "name": "python",
   "nbconvert_exporter": "python",
   "pygments_lexer": "ipython3",
   "version": "3.12.4"
  }
 },
 "nbformat": 4,
 "nbformat_minor": 5
}
